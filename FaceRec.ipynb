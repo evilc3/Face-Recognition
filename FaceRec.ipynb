{
 "cells": [
  {
   "cell_type": "code",
   "execution_count": 1,
   "metadata": {},
   "outputs": [
    {
     "data": {
      "text/plain": [
       "'3.4.5'"
      ]
     },
     "execution_count": 1,
     "metadata": {},
     "output_type": "execute_result"
    }
   ],
   "source": [
    "import cv2\n",
    "import os\n",
    "import numpy as np\n",
    "import matplotlib.pyplot as plt\n",
    "import pickle as p\n",
    "cv2.__version__"
   ]
  },
  {
   "cell_type": "code",
   "execution_count": 2,
   "metadata": {},
   "outputs": [],
   "source": [
    "#paths \n",
    "\n",
    "folder = './models'\n",
    "model_path = os.path.join(folder,'ssd.caffemodel')\n",
    "proto_path = os.path.join(folder,'deploy.prototxt')"
   ]
  },
  {
   "cell_type": "code",
   "execution_count": 3,
   "metadata": {},
   "outputs": [],
   "source": [
    "dnet = cv2.dnn.readNetFromCaffe(proto_path,model_path)"
   ]
  },
  {
   "cell_type": "code",
   "execution_count": 4,
   "metadata": {},
   "outputs": [],
   "source": [
    "#face net model\n",
    "enet = cv2.dnn.readNetFromTorch('./models/openface_nn4.small2.v1.t7')"
   ]
  },
  {
   "cell_type": "code",
   "execution_count": 27,
   "metadata": {},
   "outputs": [
    {
     "name": "stdout",
     "output_type": "stream",
     "text": [
      "(750, 562, 3)\n"
     ]
    }
   ],
   "source": [
    "img = cv2.imread('./people/unknown/image100.jpg')\n",
    "print(img.shape)\n",
    "blob_img = cv2.dnn.blobFromImage(img,1.0,size = (300,300),mean = (123.68,116.78,103.94),swapRB = False,crop = False)\n",
    "blob_img.shape\n",
    "\n",
    "h,w,_ = img.shape\n",
    "\n",
    "dnet.setInput(blob_img)\n",
    "r = dnet.forward()\n"
   ]
  },
  {
   "cell_type": "code",
   "execution_count": 17,
   "metadata": {},
   "outputs": [
    {
     "data": {
      "text/plain": [
       "array([[0.        , 1.        , 0.9999877 , 0.22753325, 0.19497436,\n",
       "        0.77354085, 0.8144837 ],\n",
       "       [0.        , 1.        , 0.9991992 , 0.56312394, 0.5480316 ,\n",
       "        1.1001501 , 1.1428251 ],\n",
       "       [0.        , 1.        , 0.1046887 , 4.1802025 , 4.0172906 ,\n",
       "        4.8378754 , 4.9839787 ]], dtype=float32)"
      ]
     },
     "execution_count": 17,
     "metadata": {},
     "output_type": "execute_result"
    }
   ],
   "source": [
    "r[0][0][0:3]"
   ]
  },
  {
   "cell_type": "code",
   "execution_count": 33,
   "metadata": {},
   "outputs": [],
   "source": [
    "r[0][0][3][2] = 1"
   ]
  },
  {
   "cell_type": "code",
   "execution_count": 50,
   "metadata": {},
   "outputs": [
    {
     "name": "stdout",
     "output_type": "stream",
     "text": [
      "[array([127, 146, 434, 610]), array([316, 411, 618, 857]), array([  87, 3012,  462, 3737])]\n",
      "[127 146 434 610]\n",
      "[0 0 0 0]\n",
      "[  87 3012  462 3737]\n"
     ]
    }
   ],
   "source": [
    "import cv2\n",
    "c =  filter_op(r)\n",
    "print(c)    \n",
    "    \n",
    "if len(c) > 1:\n",
    "   \n",
    "    c = nms(c)\n",
    "    \n",
    "    for i in c:\n",
    "    \n",
    "        cv2.rectangle(img,(i[0],i[1]),(i[2],i[3]),(255,255,255),5)\n",
    "        print(i)\n",
    "cv2.imshow(\"dasd\",img)\n",
    "cv2.waitKey(0)\n",
    "cv2.destroyAllWindows()\n",
    "    "
   ]
  },
  {
   "cell_type": "code",
   "execution_count": 44,
   "metadata": {},
   "outputs": [],
   "source": [
    "cv2.rectangle(img,(87,3012),(462,3737),(0,0,255),5)\n",
    "    \n",
    "cv2.imshow(\"dasd\",img)\n",
    "cv2.waitKey(0)\n",
    "cv2.destroyAllWindows()"
   ]
  },
  {
   "cell_type": "code",
   "execution_count": 46,
   "metadata": {},
   "outputs": [],
   "source": [
    "def nms(box,th = 0.1):   \n",
    "    \n",
    "    for p in range(len(box)):\n",
    "        \n",
    "        box1 = box[p]\n",
    "    \n",
    "        if p == len(box) -1:\n",
    "#             print('stopping')\n",
    "            break\n",
    "    \n",
    "        for j in range(1,len(box)):\n",
    "        \n",
    "            box2 = box[j]\n",
    "            result = iou2(box1,box2)\n",
    "#             print('iou',result)\n",
    "            if result != 0:\n",
    "                box[j] = np.array([0,0,0,0])\n",
    "#                 print(j)\n",
    "    return box\n",
    "\n",
    "\n",
    "def iou2(bbox1,bbox2):\n",
    "    #content of box : x,y,width,height\n",
    "    #formula  intersection/union\n",
    "    \n",
    "    \n",
    "    x1,y1,w1,h1 = bbox1\n",
    "    x2,y2,w2,h2 = bbox2\n",
    "    \n",
    "#     print(x1,y1,w1,h1)\n",
    "  \n",
    "    \n",
    "    x3 = np.max((x1,x2))\n",
    "    y3 = np.max((y1,y2))\n",
    "    w3 = np.min((x1+w1,x2+w2)) - x3\n",
    "    h3 = np.min((y1+h1,y2+h2)) - y3\n",
    "    \n",
    "    #print('w3',w3)\n",
    "    #print('h3',h3)\n",
    "    \n",
    "    if w3<=0 or h3 <=0:\n",
    "        return 0\n",
    "    \n",
    "    iint = w3*h3\n",
    "    #print(iint)\n",
    "    u = (w1*h1 + w2*h2) - iint\n",
    "    #print(\"area1\",w1*h1)\n",
    "    #print(\"area2\",w2*h2)\n",
    "    \n",
    "    return iint/u\n",
    " \n",
    "# print(iou2(box[0],box[1]))\n",
    "# box\n",
    "\n"
   ]
  },
  {
   "cell_type": "code",
   "execution_count": 18,
   "metadata": {},
   "outputs": [],
   "source": [
    "\n",
    "def filter_op(r,conf = 0.9):\n",
    "    \n",
    "    \n",
    "    box = []\n",
    "    \n",
    "    #filtering out using confidence levels\n",
    "    for i in r[0,0,:]:\n",
    "\n",
    "        if i[2] > conf:\n",
    "            b = i[3:] * np.array([w,h,w,h])\n",
    "            box.append(b.astype('int32'))\n",
    "        \n",
    "    return box    \n"
   ]
  },
  {
   "cell_type": "code",
   "execution_count": 7,
   "metadata": {},
   "outputs": [],
   "source": [
    "def process(res,conf = 0.9,th = 0.1):\n",
    "    \n",
    "    \n",
    "    rect = filter_op(res,conf)\n",
    "#     print(len(rect))\n",
    "#     if len(rect)>1:\n",
    "#         print('perfroming nms')\n",
    "#         n_rect = nms(rect,th)\n",
    "#         return [x for x in n_rect if x.all() != 0]\n",
    "#     else:\n",
    "    return rect"
   ]
  },
  {
   "cell_type": "code",
   "execution_count": 13,
   "metadata": {},
   "outputs": [],
   "source": [
    "def get_embedding(img,r):\n",
    "    \n",
    "    face = img[r[1]:r[3],r[0]:r[2]]\n",
    "#     print(face.shape)\n",
    "    if face.shape[0] == 0:\n",
    "        return np.zeros(128)\n",
    "    \n",
    "    \n",
    "#     print(face.shape)\n",
    "    face_blob = cv2.dnn.blobFromImage(face,1/255,(96,96),swapRB = True)\n",
    "#     print(face_blob.shape)\n",
    "    enet.setInput(face_blob)\n",
    "    return enet.forward()\n",
    "    \n",
    "    "
   ]
  },
  {
   "cell_type": "code",
   "execution_count": 8,
   "metadata": {},
   "outputs": [],
   "source": [
    "# emb = []\n",
    "# name = []\n",
    "# for path in os.listdir('./people'):\n",
    "    \n",
    "#     print(path)\n",
    "#     for img in os.listdir('./people/'+path):\n",
    "        \n",
    "        \n",
    "#         img_path = './people/'+path+'/'+img\n",
    "#         print(img_path)\n",
    "#         i = cv2.imread(img_path)\n",
    "        \n",
    "        \n",
    "#         blob_img = cv2.dnn.blobFromImage(i,1.0,size = (300,300),mean = (123.68,116.78,103.94),swapRB = False,crop = False)\n",
    "#         dnet.setInput(blob_img)\n",
    "#         result = dnet.forward()\n",
    "# #         print(result.shape)\n",
    "#         res = process(result,conf = 0)\n",
    "#         print('no of detections:',len(res))\n",
    "# #         plt.figure()\n",
    "# #         plt.imshow(i[res[0][1]:res[0][3],res[0][0]:res[0][2]])\n",
    "# #         plt.show()\n",
    "#         emb.append(get_embedding(i,res[0]))\n",
    "#         name.append(path)\n",
    "        \n",
    "        \n",
    "# print('no of embeddigs and names',len(emb),len(name))    \n",
    "# with open('./pickle_files/'+'emb.pickle','wb') as f:\n",
    "#     p.dump({'emb':emb,'name':name},f)\n",
    "        \n",
    "    "
   ]
  },
  {
   "cell_type": "code",
   "execution_count": 9,
   "metadata": {
    "scrolled": true
   },
   "outputs": [
    {
     "name": "stdout",
     "output_type": "stream",
     "text": [
      "[1 1 1 1 1 1 1 1 1 1 1 1 1 1 1 1 1 1 1 1 0 0 0 0 0 0 0 0 0 0 0 0 0 0 0 0 0\n",
      " 0 0 0]\n"
     ]
    },
    {
     "data": {
      "text/plain": [
       "array(['unknown', 'unknown', 'unknown', 'unknown', 'unknown', 'unknown',\n",
       "       'unknown', 'unknown', 'unknown', 'unknown', 'unknown', 'unknown',\n",
       "       'unknown', 'unknown', 'unknown', 'unknown', 'unknown', 'unknown',\n",
       "       'unknown', 'unknown', 'clive', 'clive', 'clive', 'clive', 'clive',\n",
       "       'clive', 'clive', 'clive', 'clive', 'clive', 'clive', 'clive',\n",
       "       'clive', 'clive', 'clive', 'clive', 'clive', 'clive', 'clive',\n",
       "       'clive'], dtype='<U7')"
      ]
     },
     "execution_count": 9,
     "metadata": {},
     "output_type": "execute_result"
    }
   ],
   "source": [
    "#encoding labels \n",
    "\n",
    "from sklearn.preprocessing import LabelEncoder\n",
    "\n",
    "with open('./pickle_files/emb.pickle','rb') as f:\n",
    "    data = p.load(f)\n",
    "    \n",
    "label  = LabelEncoder()\n",
    "l = label.fit_transform(data['name'])\n",
    "print(l)\n",
    "label.inverse_transform(l)\n"
   ]
  },
  {
   "cell_type": "code",
   "execution_count": 10,
   "metadata": {
    "scrolled": true
   },
   "outputs": [],
   "source": [
    "# train_test_split?\n",
    "# ytrain"
   ]
  },
  {
   "cell_type": "code",
   "execution_count": 22,
   "metadata": {},
   "outputs": [
    {
     "name": "stdout",
     "output_type": "stream",
     "text": [
      "(32, 128) (8, 128)\n"
     ]
    },
    {
     "data": {
      "text/plain": [
       "SVC(C=70.0, cache_size=200, class_weight=None, coef0=0.0,\n",
       "    decision_function_shape='ovr', degree=3, gamma=0.001, kernel='rbf',\n",
       "    max_iter=-1, probability=True, random_state=None, shrinking=True, tol=0.001,\n",
       "    verbose=False)"
      ]
     },
     "execution_count": 22,
     "metadata": {},
     "output_type": "execute_result"
    }
   ],
   "source": [
    "from sklearn.svm import SVC\n",
    "from sklearn.model_selection import train_test_split\n",
    "\n",
    "x = np.squeeze(np.array(data['emb']))\n",
    "\n",
    "xtrain,xtest,ytrain,ytest = train_test_split(x,l,test_size = 0.2,shuffle = True)\n",
    "\n",
    "print(xtrain.shape,xtest.shape)\n",
    "clf = SVC(C = 70.0,gamma = 0.001,probability = True)\n",
    "\n",
    "clf.fit(xtrain,ytrain)\n",
    "# np.squeeze(np.array(data['emb'])).shape,l.shape"
   ]
  },
  {
   "cell_type": "code",
   "execution_count": 21,
   "metadata": {},
   "outputs": [
    {
     "name": "stdout",
     "output_type": "stream",
     "text": [
      "no detction\n",
      "no detction\n",
      "no detction\n",
      "no detction\n",
      "no detction\n",
      "no detction\n",
      "no detction\n",
      "no detction\n",
      "no detction\n",
      "no detction\n"
     ]
    }
   ],
   "source": [
    "import cv2\n",
    "#geqttiing training images\n",
    "cam = cv2.VideoCapture(0)\n",
    "while 1 :\n",
    "\n",
    "    _,frame = cam.read()\n",
    "    \n",
    "    blob_img = cv2.dnn.blobFromImage(frame,1.0,size = (300,300),mean = (123.68,116.78,103.94),swapRB = False,crop = False)\n",
    "    h,w,_ = frame.shape\n",
    "    dnet.setInput(blob_img)\n",
    "    result = dnet.forward()\n",
    "#     print(result.shape)\n",
    "    res = process(result,conf = 0.9)\n",
    "#     print('no of detections:',len(res))\n",
    "    \n",
    "    if len(res) > 0:\n",
    "        vec  = get_embedding(frame,res[0])\n",
    "    \n",
    "#         name = decode(vec)\n",
    "\n",
    "#         name = label.inverse_transform(clf.predict(vec))[0]\n",
    "        if vec.all() != 0:     \n",
    "    \n",
    "            pred = clf.predict_proba(vec)[0]\n",
    "            j = np.argmax(pred)\n",
    "#           print(label.classes_[j])\n",
    "            score = pred[j]\n",
    "            name =  label.classes_[j]\n",
    "            if score < 0.5:\n",
    "                name  = '----'\n",
    "\n",
    "\n",
    "\n",
    "    else:\n",
    "        print('no detction')\n",
    "    \n",
    "    frame = cv2.flip(frame,1)\n",
    "    \n",
    "    for o in res:\n",
    "        cv2.rectangle(frame,(o[0],o[1]),(o[2],o[3]),(255,0,0),5)\n",
    "        cv2.putText(frame,name+':'+str(score),(o[0],o[1]),cv2.FONT_HERSHEY_SIMPLEX,1,(255,255,255),1,cv2.LINE_AA)\n",
    "\n",
    "    \n",
    "    cv2.imshow('img',frame)\n",
    "    \n",
    "\n",
    "    \n",
    "    if cv2.waitKey(1) & 0xFF == ord('q'):\n",
    "            break\n",
    "    \n",
    "cam.release()    \n",
    "cv2.destroyAllWindows()   \n",
    "        \n",
    "    \n",
    "    \n",
    "\n"
   ]
  },
  {
   "cell_type": "code",
   "execution_count": 14,
   "metadata": {},
   "outputs": [],
   "source": [
    "\n",
    "cv2.flip?"
   ]
  },
  {
   "cell_type": "code",
   "execution_count": null,
   "metadata": {},
   "outputs": [],
   "source": []
  },
  {
   "cell_type": "code",
   "execution_count": null,
   "metadata": {},
   "outputs": [],
   "source": []
  }
 ],
 "metadata": {
  "kernelspec": {
   "display_name": "Python 3",
   "language": "python",
   "name": "python3"
  },
  "language_info": {
   "codemirror_mode": {
    "name": "ipython",
    "version": 3
   },
   "file_extension": ".py",
   "mimetype": "text/x-python",
   "name": "python",
   "nbconvert_exporter": "python",
   "pygments_lexer": "ipython3",
   "version": "3.7.3"
  }
 },
 "nbformat": 4,
 "nbformat_minor": 2
}
